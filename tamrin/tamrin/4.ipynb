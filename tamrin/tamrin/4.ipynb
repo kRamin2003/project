{
 "cells": [
  {
   "cell_type": "code",
   "execution_count": 2,
   "id": "34f42d51-f9af-4b01-ba04-16dc53f6ef9d",
   "metadata": {},
   "outputs": [
    {
     "name": "stdout",
     "output_type": "stream",
     "text": [
      "6.666666666666667\n"
     ]
    }
   ],
   "source": [
    "def q1(xx):\n",
    "    return (xx**2)+(2*xx)\n",
    "def q2(m):\n",
    "    return (2*xx)+2\n",
    "def q3(a):\n",
    "    return q1(xx)-(q1(xx)/q2(xx))\n",
    "xx=2\n",
    "print (q3(\"a\"))\n",
    "#github"
   ]
  },
  {
   "cell_type": "code",
   "execution_count": null,
   "id": "fec1642f-63ee-4b40-bdc5-acbe8ac81983",
   "metadata": {},
   "outputs": [],
   "source": []
  }
 ],
 "metadata": {
  "kernelspec": {
   "display_name": "Python 3 (ipykernel)",
   "language": "python",
   "name": "python3"
  },
  "language_info": {
   "codemirror_mode": {
    "name": "ipython",
    "version": 3
   },
   "file_extension": ".py",
   "mimetype": "text/x-python",
   "name": "python",
   "nbconvert_exporter": "python",
   "pygments_lexer": "ipython3",
   "version": "3.10.11"
  }
 },
 "nbformat": 4,
 "nbformat_minor": 5
}
