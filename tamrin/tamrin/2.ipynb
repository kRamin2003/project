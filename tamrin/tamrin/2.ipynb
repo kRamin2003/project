{
 "cells": [
  {
   "cell_type": "code",
   "execution_count": 7,
   "id": "9b5ddaf2-b74a-4539-a6b7-279a96524abe",
   "metadata": {},
   "outputs": [
    {
     "name": "stdout",
     "output_type": "stream",
     "text": [
      "3\n",
      "ok\n"
     ]
    }
   ],
   "source": [
    "x=\"ramin\"\n",
    "def ramin(b):\n",
    "    for y in range(len(x)):\n",
    "        if x[y]==b:\n",
    "            print(y)\n",
    "            print(\"ok\")\n",
    "ramin(\"i\")\n",
    "#github"
   ]
  },
  {
   "cell_type": "code",
   "execution_count": null,
   "id": "6859f03f-f028-4631-80b5-90c20e59c8e9",
   "metadata": {},
   "outputs": [],
   "source": []
  }
 ],
 "metadata": {
  "kernelspec": {
   "display_name": "Python 3 (ipykernel)",
   "language": "python",
   "name": "python3"
  },
  "language_info": {
   "codemirror_mode": {
    "name": "ipython",
    "version": 3
   },
   "file_extension": ".py",
   "mimetype": "text/x-python",
   "name": "python",
   "nbconvert_exporter": "python",
   "pygments_lexer": "ipython3",
   "version": "3.10.11"
  }
 },
 "nbformat": 4,
 "nbformat_minor": 5
}
