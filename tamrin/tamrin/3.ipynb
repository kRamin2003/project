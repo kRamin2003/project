{
 "cells": [
  {
   "cell_type": "code",
   "execution_count": 5,
   "id": "5bc2d54e-30a9-4256-93d4-63d6851d608b",
   "metadata": {},
   "outputs": [
    {
     "name": "stdout",
     "output_type": "stream",
     "text": [
      "2\n"
     ]
    }
   ],
   "source": [
    "x=\"raminn\"\n",
    "def ramin(a):\n",
    "    v=0\n",
    "    for c in x:\n",
    "        if(a==c):\n",
    "            v+=1\n",
    "    print(v)\n",
    "ramin(\"n\")        "
   ]
  },
  {
   "cell_type": "code",
   "execution_count": null,
   "id": "2878c6e3-2983-4f28-ae2f-a7bd5b6f99d3",
   "metadata": {},
   "outputs": [],
   "source": []
  }
 ],
 "metadata": {
  "kernelspec": {
   "display_name": "Python 3 (ipykernel)",
   "language": "python",
   "name": "python3"
  },
  "language_info": {
   "codemirror_mode": {
    "name": "ipython",
    "version": 3
   },
   "file_extension": ".py",
   "mimetype": "text/x-python",
   "name": "python",
   "nbconvert_exporter": "python",
   "pygments_lexer": "ipython3",
   "version": "3.10.11"
  }
 },
 "nbformat": 4,
 "nbformat_minor": 5
}
