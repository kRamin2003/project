{
 "cells": [
  {
   "cell_type": "code",
   "execution_count": 2,
   "id": "53e5fbd9-2aca-4f12-ae1e-ec82e74ae253",
   "metadata": {},
   "outputs": [
    {
     "name": "stdout",
     "output_type": "stream",
     "text": [
      "nimar\n"
     ]
    }
   ],
   "source": [
    "x=\"\"\n",
    "y=\"ramin\"\n",
    "for ramin in y:\n",
    "    \n",
    "    x=ramin+x\n",
    "    \n",
    "print(x)    "
   ]
  }
 ],
 "metadata": {
  "kernelspec": {
   "display_name": "Python 3 (ipykernel)",
   "language": "python",
   "name": "python3"
  },
  "language_info": {
   "codemirror_mode": {
    "name": "ipython",
    "version": 3
   },
   "file_extension": ".py",
   "mimetype": "text/x-python",
   "name": "python",
   "nbconvert_exporter": "python",
   "pygments_lexer": "ipython3",
   "version": "3.10.11"
  }
 },
 "nbformat": 4,
 "nbformat_minor": 5
}
