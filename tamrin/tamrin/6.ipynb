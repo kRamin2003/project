{
 "cells": [
  {
   "cell_type": "code",
   "execution_count": 6,
   "id": "61126957-e793-4e48-92a6-3d81abae3aa7",
   "metadata": {},
   "outputs": [
    {
     "name": "stdout",
     "output_type": "stream",
     "text": [
      "rain\n",
      "M\n"
     ]
    }
   ],
   "source": [
    "xy=\"raMin\"\n",
    "x=\"\"\n",
    "y=\"\"\n",
    "for s in xy:\n",
    "    if (s.islower()):\n",
    "        x=x+s\n",
    "    else:\n",
    "        y=y+s\n",
    "print(x)\n",
    "print(y)   \n",
    "#github"
   ]
  },
  {
   "cell_type": "code",
   "execution_count": null,
   "id": "dd8b5d5f-bdfe-47af-b071-77519e4a009a",
   "metadata": {},
   "outputs": [],
   "source": []
  }
 ],
 "metadata": {
  "kernelspec": {
   "display_name": "Python 3 (ipykernel)",
   "language": "python",
   "name": "python3"
  },
  "language_info": {
   "codemirror_mode": {
    "name": "ipython",
    "version": 3
   },
   "file_extension": ".py",
   "mimetype": "text/x-python",
   "name": "python",
   "nbconvert_exporter": "python",
   "pygments_lexer": "ipython3",
   "version": "3.10.11"
  }
 },
 "nbformat": 4,
 "nbformat_minor": 5
}
