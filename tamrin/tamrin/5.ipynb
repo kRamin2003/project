{
 "cells": [
  {
   "cell_type": "code",
   "execution_count": 4,
   "id": "afbbdabf-dc61-466a-914e-bfa9d0348296",
   "metadata": {},
   "outputs": [
    {
     "name": "stdout",
     "output_type": "stream",
     "text": [
      "false\n"
     ]
    }
   ],
   "source": [
    "x=\"ramin\"\n",
    "y=x[::-1]\n",
    "if x==y:\n",
    "    print(\"true\")\n",
    "else:\n",
    "    print(\"false\")\n",
    "#github"
   ]
  },
  {
   "cell_type": "code",
   "execution_count": null,
   "id": "4a1bf47b-8407-4fd2-83b5-52d85dc4afc3",
   "metadata": {},
   "outputs": [],
   "source": []
  }
 ],
 "metadata": {
  "kernelspec": {
   "display_name": "Python 3 (ipykernel)",
   "language": "python",
   "name": "python3"
  },
  "language_info": {
   "codemirror_mode": {
    "name": "ipython",
    "version": 3
   },
   "file_extension": ".py",
   "mimetype": "text/x-python",
   "name": "python",
   "nbconvert_exporter": "python",
   "pygments_lexer": "ipython3",
   "version": "3.10.11"
  }
 },
 "nbformat": 4,
 "nbformat_minor": 5
}
