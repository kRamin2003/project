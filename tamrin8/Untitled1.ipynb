{
 "cells": [
  {
   "cell_type": "code",
   "execution_count": 1,
   "id": "11323624-2557-4b71-be46-62a85d465c7e",
   "metadata": {},
   "outputs": [
    {
     "name": "stdout",
     "output_type": "stream",
     "text": [
      "['A', 'S', 'D', 'F', 'G']\n",
      "['q', 'w', 'e', 'r', 't']\n",
      "['32', '42', '52']\n"
     ]
    }
   ],
   "source": [
    "x=[\"q\",'w','e','r','t','A','S','D','F','G','32','42','52']\n",
    "y=[]\n",
    "z=[]\n",
    "r=[]\n",
    "for w in x:\n",
    "    if w.isupper():\n",
    "        y.append(w)\n",
    "    elif w.islower():\n",
    "        z.append(w)\n",
    "    else:\n",
    "        r.append(w)\n",
    "print (y)\n",
    "print (z)\n",
    "print (r)"
   ]
  },
  {
   "cell_type": "code",
   "execution_count": null,
   "id": "f586687e-a39c-4e92-88af-2f1ba2d9acc4",
   "metadata": {},
   "outputs": [],
   "source": []
  }
 ],
 "metadata": {
  "kernelspec": {
   "display_name": "Python 3 (ipykernel)",
   "language": "python",
   "name": "python3"
  },
  "language_info": {
   "codemirror_mode": {
    "name": "ipython",
    "version": 3
   },
   "file_extension": ".py",
   "mimetype": "text/x-python",
   "name": "python",
   "nbconvert_exporter": "python",
   "pygments_lexer": "ipython3",
   "version": "3.10.11"
  }
 },
 "nbformat": 4,
 "nbformat_minor": 5
}
