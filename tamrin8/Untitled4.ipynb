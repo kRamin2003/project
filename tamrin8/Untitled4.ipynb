{
 "cells": [
  {
   "cell_type": "code",
   "execution_count": 2,
   "id": "4ec729af-f5bf-4ef0-981d-8bc7e7ad874d",
   "metadata": {},
   "outputs": [
    {
     "name": "stdout",
     "output_type": "stream",
     "text": [
      "['s', 'd', 'f', 'g', 'h', 'j', '3']\n",
      "['d', 'f', 'g', 'h', 'j', '3']\n",
      "['f', 'g', 'h', 'j', '3']\n",
      "['g', 'h', 'j', '3']\n",
      "['h', 'j', '3']\n",
      "['j', '3']\n",
      "['3']\n",
      "[]\n",
      "[]\n"
     ]
    }
   ],
   "source": [
    "x=['a','s','d','f','g','h','j','3']\n",
    "for y in x[:]:\n",
    "    x.pop(0)\n",
    "    print (x)\n",
    "print(x)"
   ]
  },
  {
   "cell_type": "code",
   "execution_count": 5,
   "id": "ac5f7634-64d6-4ce7-b1cb-0fd183566806",
   "metadata": {},
   "outputs": [
    {
     "name": "stdout",
     "output_type": "stream",
     "text": [
      "['s', 'd', 'f', 'g', 'h', 'j', '3']\n",
      "['d', 'f', 'g', 'h', 'j', '3']\n",
      "['f', 'g', 'h', 'j', '3']\n",
      "['g', 'h', 'j', '3']\n",
      "['h', 'j', '3']\n",
      "['j', '3']\n",
      "['3']\n",
      "[]\n",
      "[]\n"
     ]
    }
   ],
   "source": [
    "x=['a','s','d','f','g','h','j','3']\n",
    "for y in x[:]:\n",
    "    del x[0]\n",
    "    print (x)\n",
    "print(x)"
   ]
  },
  {
   "cell_type": "code",
   "execution_count": 6,
   "id": "ef12f2d1-cc43-457a-877c-0b20a3a2c766",
   "metadata": {},
   "outputs": [
    {
     "name": "stdout",
     "output_type": "stream",
     "text": [
      "['s', 'd', 'f', 'g', 'h', 'j', '3']\n",
      "['d', 'f', 'g', 'h', 'j', '3']\n",
      "['f', 'g', 'h', 'j', '3']\n",
      "['g', 'h', 'j', '3']\n",
      "['h', 'j', '3']\n",
      "['j', '3']\n",
      "['3']\n",
      "[]\n",
      "[]\n"
     ]
    }
   ],
   "source": [
    "x=['a','s','d','f','g','h','j','3']\n",
    "for y in x[:]:\n",
    "    x.remove(y)\n",
    "    print (x)\n",
    "print(x)"
   ]
  }
 ],
 "metadata": {
  "kernelspec": {
   "display_name": "Python 3 (ipykernel)",
   "language": "python",
   "name": "python3"
  },
  "language_info": {
   "codemirror_mode": {
    "name": "ipython",
    "version": 3
   },
   "file_extension": ".py",
   "mimetype": "text/x-python",
   "name": "python",
   "nbconvert_exporter": "python",
   "pygments_lexer": "ipython3",
   "version": "3.10.11"
  }
 },
 "nbformat": 4,
 "nbformat_minor": 5
}
