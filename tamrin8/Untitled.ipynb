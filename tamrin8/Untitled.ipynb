{
 "cells": [
  {
   "cell_type": "code",
   "execution_count": 3,
   "id": "04cd3cd3-b0ce-4a06-a3c7-834ade04349c",
   "metadata": {},
   "outputs": [
    {
     "name": "stdout",
     "output_type": "stream",
     "text": [
      "['1', '23', '4323$', '99', 'ramin', 'true']\n"
     ]
    }
   ],
   "source": [
    "s=[\"99\",\"23\",\"4323$\",\"ramin\",\"true\",\"1\"]\n",
    "print(sorted(s))"
   ]
  },
  {
   "cell_type": "code",
   "execution_count": null,
   "id": "f7cf5678-b5f6-4141-a687-eacac2e11151",
   "metadata": {},
   "outputs": [],
   "source": []
  }
 ],
 "metadata": {
  "kernelspec": {
   "display_name": "Python 3 (ipykernel)",
   "language": "python",
   "name": "python3"
  },
  "language_info": {
   "codemirror_mode": {
    "name": "ipython",
    "version": 3
   },
   "file_extension": ".py",
   "mimetype": "text/x-python",
   "name": "python",
   "nbconvert_exporter": "python",
   "pygments_lexer": "ipython3",
   "version": "3.10.11"
  }
 },
 "nbformat": 4,
 "nbformat_minor": 5
}
